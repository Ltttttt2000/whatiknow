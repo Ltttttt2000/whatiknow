{
 "cells": [
  {
   "cell_type": "markdown",
   "metadata": {},
   "source": [
    "### Q200. 岛屿数量\n",
    "给你一个由 `'1'`（陆地）和 `'0'`（水）组成的的二维网格，请你计算网格中岛屿的数量。\n",
    "岛屿总是被水包围，并且每座岛屿只能由水平方向和/或竖直方向上相邻的陆地连接形成。\n",
    "此外，你可以假设该网格的四条边均被水包围。\n",
    "**示例 1：**\n",
    "输入：grid = [\n",
    "  [\"1\",\"1\",\"1\",\"1\",\"0\"],\n",
    "  [\"1\",\"1\",\"0\",\"1\",\"0\"],\n",
    "  [\"1\",\"1\",\"0\",\"0\",\"0\"],\n",
    "  [\"0\",\"0\",\"0\",\"0\",\"0\"]\n",
    "]\n",
    "输出：1\n",
    "示例 2：\n",
    "输入：grid = [\n",
    "  [\"1\",\"1\",\"0\",\"0\",\"0\"],\n",
    "  [\"1\",\"1\",\"0\",\"0\",\"0\"],\n",
    "  [\"0\",\"0\",\"1\",\"0\",\"0\"],\n",
    "  [\"0\",\"0\",\"0\",\"1\",\"1\"]\n",
    "]\n",
    "输出：3"
   ]
  },
  {
   "cell_type": "code",
   "execution_count": null,
   "metadata": {},
   "outputs": [],
   "source": [
    "class Solution:\n",
    "    def numIslands(self, grid: List[List[str]]) -> int:\n",
    "        m = len(grid)\n",
    "        n = len(grid[0])\n",
    "        res = 0\n",
    "\n",
    "        def bfs(i, j):\n",
    "            if j >= n or i >= m or j < 0 or i < 0 or grid[i][j] == '0':\n",
    "                return\n",
    "            grid[i][j] = '0'\n",
    "            bfs(i-1,j)\n",
    "            bfs(i,j-1)\n",
    "            bfs(i+1,j)\n",
    "            bfs(i,j+1)\n",
    "\n",
    "\n",
    "        for i in range(m):\n",
    "            for j in range(n):\n",
    "                if grid[i][j] == '1':\n",
    "                    res += 1\n",
    "                    bfs(i,j)\n",
    "        return res"
   ]
  },
  {
   "cell_type": "markdown",
   "metadata": {},
   "source": [
    "### Q207. 课程表\n",
    "你这个学期必须选修 `numCourses` 门课程，记为 `0` 到 `numCourses - 1` 。\n",
    "在选修某些课程之前需要一些先修课程。 先修课程按数组 `prerequisites` 给出，其中 `prerequisites[i] = [ai, bi]` ，表示如果要学习课程 `ai` 则 **必须** 先学习课程  `bi` 。\n",
    "- 例如，先修课程对 `[0, 1]` 表示：想要学习课程 `0` ，你需要先完成课程 `1` 。\n",
    "请你判断是否可能完成所有课程的学习？如果可以，返回 `true` ；否则，返回 `false` 。"
   ]
  },
  {
   "cell_type": "code",
   "execution_count": null,
   "metadata": {},
   "outputs": [],
   "source": [
    "class Solution:\n",
    "    def canFinish(self, numCourses: int, prerequisites: List[List[int]]) -> bool:\n",
    "        '''\n",
    "        :type N,: int\n",
    "        :type prerequisites: List[List[int]]\n",
    "        :rtype: bool\n",
    "        '''\n",
    "        if len(prerequisites) == 0:\n",
    "            return True\n",
    "\n",
    "        # 构建图\n",
    "        graph = {}\n",
    "        indegrees = {}\n",
    "        for u, v in prerequisites:\n",
    "            indegrees[u] = 0\n",
    "            indegrees[v] = 0\n",
    "\n",
    "        for i in range(numCourses):\n",
    "            graph[i] = []\n",
    "\n",
    "        for u, v in prerequisites:\n",
    "            graph[v].append(u)\n",
    "            indegrees[u] += 1\n",
    "\n",
    "        # print(graph, indegrees)\n",
    "\n",
    "        q = collections.deque()  # 双向队列\n",
    "        # 先将入度为0的节点入队\n",
    "        for node in indegrees:\n",
    "            if indegrees[node] == 0:\n",
    "                q.append(node)\n",
    "\n",
    "        # 开始进行搜索\n",
    "        num = len(indegrees)\n",
    "        while q:\n",
    "            u = q.popleft()  # 出队，进行广度搜索\n",
    "            num -= 1\n",
    "            # 搜索邻接节点\n",
    "            for v in graph[u]:\n",
    "                # 将邻接节点入度减 1\n",
    "                indegrees[v] -= 1\n",
    "                # 如果入度为 0，入队\n",
    "                if indegrees[v] == 0:\n",
    "                    q.append(v)\n",
    "        return num == 0"
   ]
  }
 ],
 "metadata": {
  "kernelspec": {
   "display_name": "Python 3",
   "language": "python",
   "name": "python3"
  },
  "language_info": {
   "codemirror_mode": {
    "name": "ipython",
    "version": 3
   },
   "file_extension": ".py",
   "mimetype": "text/x-python",
   "name": "python",
   "nbconvert_exporter": "python",
   "pygments_lexer": "ipython3",
   "version": "3.7.0"
  }
 },
 "nbformat": 4,
 "nbformat_minor": 2
}
