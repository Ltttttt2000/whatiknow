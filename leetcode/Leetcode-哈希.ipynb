{
 "cells": [
  {
   "cell_type": "markdown",
   "metadata": {},
   "source": [
    "## 字母异位词\n",
    "Q49. 字母异位词分组\n",
    "给你一个字符串数组，请你将 **字母异位词** 组合在一起。可以按任意顺序返回结果列表。\n",
    "**字母异位词** 是由重新排列源单词的所有字母得到的一个新单词。"
   ]
  },
  {
   "cell_type": "code",
   "execution_count": null,
   "metadata": {},
   "outputs": [],
   "source": [
    "class Solution:\n",
    "    def groupAnagrams(self, strs: List[str]) -> List[List[str]]:\n",
    "        # multidict\n",
    "        result = dict()\n",
    "        for i in range(len(strs)):\n",
    "\t        # 将单词按照字母顺序排序并作为key\n",
    "            sorted_string = \"\".join(sorted(strs[i]))\n",
    "#             print(sorted_string)\n",
    "            result.setdefault(sorted_string, []).append(strs[i])\n",
    "        ls = []\n",
    "        for x in result.values():\n",
    "            print(x)\n",
    "            ls.append(x)\n",
    "\n",
    "        return ls\n",
    "\n",
    "My = Solution()\n",
    "print(My.groupAnagrams([\"abc\",\"bac\",\"ha\"]))"
   ]
  },
  {
   "cell_type": "markdown",
   "metadata": {},
   "source": [
    "Q242. 有效的字母异位词\n",
    "给定两个字符串s和t，编写一个函数来判断是否是字母异位词。若 s 和t 中每个字符出现的次数都相同，则称互为字母异位词。"
   ]
  },
  {
   "cell_type": "code",
   "execution_count": null,
   "metadata": {},
   "outputs": [],
   "source": [
    "class Solution:\n",
    "    def isAnagram(self, s: str, t: str) -> bool:\n",
    "        if len(s) != len(t):\n",
    "            return False\n",
    "        dic = defaultdict(int)\n",
    "        for c in s:\n",
    "            dic[c] += 1\n",
    "        # 直接减去再判断是否为0，不用用2个字典\n",
    "        for c in t:\n",
    "            dic[c] -= 1\n",
    "        for val in dic.values():\n",
    "            if val != 0:\n",
    "                return False\n",
    "        return True"
   ]
  },
  {
   "cell_type": "markdown",
   "metadata": {},
   "source": [
    "## 同构类型\n",
    "Q383. 赎金信\n",
    "给你两个字符串：`ransomNote` 和 `magazine` ，判断 `ransomNote` 能不能由 `magazine` 里面的字符构成。如果可以，返回 `true` ；否则返回 `false` 。`magazine` 中的每个字符只能在 `ransomNote` 中使用一次。"
   ]
  },
  {
   "cell_type": "code",
   "execution_count": 1,
   "metadata": {},
   "outputs": [],
   "source": [
    "class Solution: \n",
    "    def canConstruct(self, ransomNote: str, magazine: str) -> bool: \n",
    "        # 长度为26，记录字符串中所有字符出现的次数\n",
    "        cnt = Counter(magazine) \n",
    "        for c in ransomNote: \n",
    "            cnt[c] -= 1\n",
    "            if cnt[c] < 0: # 次数不够，无法构成\n",
    "                return False \n",
    "        # 每个字符都可以在magazine中找到对应字符\n",
    "        return True "
   ]
  },
  {
   "cell_type": "code",
   "execution_count": 2,
   "metadata": {},
   "outputs": [],
   "source": [
    "# 数组方法\n",
    "class Solution:\n",
    "    def canConstruct(self, ransomNote: str, magazine: str) -> bool:\n",
    "        arr = []\n",
    "        for j in range(len(magazine)):\n",
    "            arr.append(magazine[j])\n",
    "\n",
    "        for i in range(len(ransomNote)):\n",
    "            if ransomNote[i] not in magazine:\n",
    "                return False\n",
    "            if ransomNote[i] in arr:\n",
    "                arr.remove(ransomNote[i])\n",
    "            else:\n",
    "                return False\n",
    "        return True"
   ]
  },
  {
   "cell_type": "markdown",
   "metadata": {},
   "source": [
    "Q205. 同构字符串\n",
    "给定两个字符串 `s` 和 `t` ，判断它们是否是同构的。如果 `s` 中的字符可以按某种映射关系替换得到 `t` ，那么这两个字符串是同构的。每个出现的字符都应当映射到另一个字符，同时不改变字符的顺序。不同字符不能映射到同一个字符上，相同字符只能映射到同一个字符上，字符可以映射到自己本身。\n",
    "s = `\"egg\"`, t = `\"add\"` true\n",
    "s = `\"foo\"`, t = `\"bar\"` false"
   ]
  },
  {
   "cell_type": "code",
   "execution_count": null,
   "metadata": {},
   "outputs": [],
   "source": [
    "```python\n",
    "class Solution:\n",
    "    def isIsomorphic(self, s: str, t: str) -> bool:\n",
    "        dic = dict()\n",
    "        for i in range(len(s)):\n",
    "            if s[i] not in dic.keys():\n",
    "                if t[i] not in dic.values():\n",
    "                    dic[s[i]] = t[i]\n",
    "                else:\n",
    "                    return False\n",
    "            else:\n",
    "                if t[i] != dic[s[i]]:\n",
    "                    return False\n",
    "        return True"
   ]
  },
  {
   "cell_type": "code",
   "execution_count": null,
   "metadata": {},
   "outputs": [],
   "source": [
    "# 官方题解\n",
    "class Solution:\n",
    "    def isIsomorphic(self, s: str, t: str) -> bool:\n",
    "        mp1, mp2 = {}, {}\n",
    "        for a, b in zip(s, t):\n",
    "            if a in mp1 and mp1[a] != b:\n",
    "                return False\n",
    "            if b in mp2 and mp2[b] != a:\n",
    "                return False\n",
    "            mp1[a] = b\n",
    "            mp2[b] = a\n",
    "        return True"
   ]
  },
  {
   "cell_type": "markdown",
   "metadata": {},
   "source": [
    "Q290. 单词规则\n",
    "给定一种规律 `pattern` 和一个字符串 `s` ，判断 `s` 是否遵循相同的规律。\n",
    "这里的 **遵循** 指完全匹配，例如， `pattern` 里的每个字母和字符串 `s` 中的每个非空单词之间存在着双向连接的对应规律。\n",
    "pattern = `\"abba\"`, s = `\"dog cat cat dog\"` true\n",
    "pattern = `\"abba\"`, s = `\"dog cat cat fish\"`  false"
   ]
  },
  {
   "cell_type": "code",
   "execution_count": null,
   "metadata": {},
   "outputs": [],
   "source": [
    "class Solution:\n",
    "    def wordPattern(self, pattern: str, s: str) -> bool:\n",
    "        dic = dict()\n",
    "        t = s.split()\n",
    "        if len(t) != len(pattern):\n",
    "            return False\n",
    "        for i in range(len(pattern)):\n",
    "            if pattern[i] not in dic.keys():\n",
    "                if t[i] not in dic.values():\n",
    "                    dic[pattern[i]] = t[i]\n",
    "                else:\n",
    "                    return False\n",
    "            else:\n",
    "                if t[i] != dic[pattern[i]]:\n",
    "                    return False\n",
    "        return True\n",
    "    \n",
    "    \n",
    "# 官方\n",
    "class Solution:\n",
    "    def wordPattern(self, pattern: str, s: str) -> bool:\n",
    "        p2s = {}        # pattern中的字符到s中的字符子串的映射表\n",
    "        s2p = {}        # s中的字符字串到pattern中的字符的映射表\n",
    "        words = s.split(\" \")    # 根据空格，提取s中的单词\n",
    "        if len(pattern) != len(words):\n",
    "            return False    # 字符数和单词数不一致，一定不匹配\n",
    "        for ch, word in zip(pattern, words):\n",
    "            if (ch in p2s and p2s[ch] != word) or (word in s2p and s2p[word] != ch):\n",
    "                # 字符与单词没有一一映射：即字符记录的映射不是当前单词或单词记录的映射不是当前字符\n",
    "                return False\n",
    "            # 更新映射，已存在的映射更新后仍然是不变的；不存在的映射将被加入\n",
    "            p2s[ch] = word\n",
    "            s2p[word] = ch\n",
    "        return True"
   ]
  },
  {
   "cell_type": "markdown",
   "metadata": {},
   "source": [
    "## 重复元素\n",
    "\n",
    "Q219. 存在重复元素\n",
    "给你一个整数数组 `nums` 和一个整数 `k` ，判断数组中是否存在两个 **不同的索引** `i` 和 `j` ，满足 `nums[i] == nums[j]` 且 `abs(i - j) <= k` 。如果存在，返回 `true` ；否则，返回 `false` 。"
   ]
  },
  {
   "cell_type": "code",
   "execution_count": null,
   "metadata": {},
   "outputs": [],
   "source": [
    "class Solution:\n",
    "    def containsNearbyDuplicate(self, nums: List[int], k: int) -> bool:\n",
    "        dic = dict()\n",
    "        for i in range(len(nums)):\n",
    "            if nums[i] not in dic.keys():\n",
    "                dic[nums[i]] = i\n",
    "            else:\n",
    "                if i - dic[nums[i]] <= k:\n",
    "                    return True\n",
    "                else:\n",
    "                    dic[nums[i]] = i\n",
    "        return False\n",
    "\n",
    "# +滑动窗口\n",
    "    \n",
    "class Solution:\n",
    "    def containsNearbyDuplicate(self, nums: List[int], k: int) -> bool:\n",
    "        n = len(nums)\n",
    "        s = set()\n",
    "        for i in range(n):\n",
    "            if i > k:\n",
    "                s.remove(nums[i - k - 1])\n",
    "            if nums[i] in s:\n",
    "                return True\n",
    "            s.add(nums[i])\n",
    "        return False"
   ]
  },
  {
   "cell_type": "markdown",
   "metadata": {},
   "source": [
    "Q202. 快乐数\n",
    "编写一个算法来判断一个数 `n` 是不是快乐数。\n",
    "**「快乐数」** 定义为：\n",
    "- 对于一个正整数，每一次将该数替换为它每个位置上的数字的平方和。\n",
    "- 然后重复这个过程直到这个数变为 1，也可能是 **无限循环** 但始终变不到 1。\n",
    "- 如果这个过程 **结果为** 1，那么这个数就是快乐数。\n",
    "\n",
    "如果 `n` 是 _快乐数_ 就返回 `true` ；不是，则返回 `false` 。"
   ]
  },
  {
   "cell_type": "code",
   "execution_count": null,
   "metadata": {},
   "outputs": [],
   "source": [
    "class Solution:\n",
    "    def isHappy(self, n: int) -> bool:\n",
    "        def cal(n):\n",
    "            sum = 0\n",
    "            exp = len(str(n))-1\n",
    "            while exp >= 0:\n",
    "                sum += (n//pow(10,exp))*(n//pow(10,exp))\n",
    "                n -= (n//pow(10,exp))*pow(10,exp)\n",
    "                exp -= 1\n",
    "            return sum\n",
    "    \n",
    "        middle = []\n",
    "        while n > 0:\n",
    "            if n == 1:\n",
    "                return True\n",
    "            print(n)\n",
    "            n = cal(n)\n",
    "            if n in middle: # 防重复的循环\n",
    "                return False \n",
    "            middle.append(n)\n",
    "            \n",
    "        return False"
   ]
  },
  {
   "cell_type": "markdown",
   "metadata": {},
   "source": [
    "## 数之和\n",
    "Q1. 两数之和\n",
    "给定一个整数数组 `nums` 和一个整数目标值 `target`，请你在该数组中找出 **和为目标值** _`target`_  的那 **两个** 整数，并返回它们的数组下标。"
   ]
  },
  {
   "cell_type": "code",
   "execution_count": null,
   "metadata": {},
   "outputs": [],
   "source": [
    "from typing import List\n",
    "class Solution:\n",
    "    def twoSum(self, nums: List[int], target: int) -> List[int]:\n",
    "        result = []\n",
    "        for i in range(len(nums)):\n",
    "            find = target - nums[i]\n",
    "            if find in nums and nums.index(find)!=i:\n",
    "                result.append(i)\n",
    "                result.append(nums.index(find))\n",
    "                return result\n",
    "                break\n",
    "                \n",
    "nums = [2,7,11,15], target = 9\n",
    "print(Solution().twoSum(nums, target))"
   ]
  },
  {
   "cell_type": "markdown",
   "metadata": {},
   "source": [
    "Q53. 最大子数组和\n",
    "给你一个整数数组 `nums` ，请你找出一个具有最大和的连续子数组（子数组最少包含一个元素），返回其最大和。**子数组** 是数组中的一个连续部分。若下一个数<0，则无益，cur从下个数开始，若>=0，则继续遍历。"
   ]
  },
  {
   "cell_type": "code",
   "execution_count": null,
   "metadata": {},
   "outputs": [],
   "source": [
    "class Solution:  \n",
    "\tdef maxSubArray(self, nums):  \n",
    "\t\tif not nums:  \n",
    "\t\t\treturn None  \n",
    "  \n",
    "\t\tres = cur = nums[0] # 初始化最大子序和、状态值  \n",
    "\t\tfor i in range(1, len(nums)):  \n",
    "\t\t# 若 cur 大于 0，有助于后序数字和的增加，则更新 cur（叠加当前数字）；  \n",
    "\t\t# 若 cur 小于（等于） 0，有损于（无益于）后序数字和的增加，则更新 cur 为当前数字  \n",
    "\t\t\tif cur > 0:  \n",
    "\t\t\t\tcur += nums[i]  \n",
    "\t\t\telse:  \n",
    "\t\t\t\tcur = nums[i]  \n",
    "\t\t\tres = max(res, cur) # 更新最大子序和  \n",
    "\t\treturn res"
   ]
  },
  {
   "cell_type": "markdown",
   "metadata": {},
   "source": [
    "## 联合滑动窗口\n",
    "\n",
    "Q128. 最长连续序列\n",
    "给定一个未排序的整数数组 `nums` ，找出数字连续的最长序列（不要求序列元素在原数组中连续）的长度。O(N) 输入：nums = [100,4,200,1,3,2] 输出：4 解释：最长数字连续序列是 [1, 2, 3, 4]。它的长度为 4。哈希表把左右元素取出来\n",
    "\n"
   ]
  },
  {
   "cell_type": "code",
   "execution_count": null,
   "metadata": {},
   "outputs": [],
   "source": [
    "class Solution:\n",
    "    def longestConsecutive(self, nums: List[int]) -> int:\n",
    "        res = 0     # 记录最长连续序列的长度\n",
    "        num_set = set(nums)     # 记录nums中的所有数值\n",
    "        for num in num_set:\n",
    "            # 如果当前的数是一个连续序列的起点，统计这个连续序列的长度\n",
    "            if (num - 1) not in num_set:\n",
    "                seq_len = 1     # 连续序列的长度，初始为1，确定起始位置\n",
    "                while (num + 1) in num_set:\n",
    "                    seq_len += 1\n",
    "                    num += 1    # 不断查找连续序列，直到num的下一个数不存在于数组中\n",
    "                res = max(res, seq_len)     # 更新最长连续序列长度\n",
    "        return res\n",
    "# dict.get(value, default) 若没有返回设定的值"
   ]
  }
 ],
 "metadata": {
  "kernelspec": {
   "display_name": "Python 3",
   "language": "python",
   "name": "python3"
  },
  "language_info": {
   "codemirror_mode": {
    "name": "ipython",
    "version": 3
   },
   "file_extension": ".py",
   "mimetype": "text/x-python",
   "name": "python",
   "nbconvert_exporter": "python",
   "pygments_lexer": "ipython3",
   "version": "3.7.0"
  }
 },
 "nbformat": 4,
 "nbformat_minor": 2
}
