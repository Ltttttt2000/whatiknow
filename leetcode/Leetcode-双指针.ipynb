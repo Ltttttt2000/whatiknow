{
 "cells": [
  {
   "cell_type": "markdown",
   "metadata": {},
   "source": [
    "### Q283. 移动零\n",
    "将所有0移动到数组的末尾，同时保证非零元素的相对顺序。k"
   ]
  },
  {
   "cell_type": "code",
   "execution_count": null,
   "metadata": {},
   "outputs": [],
   "source": [
    "class Solution:\n",
    "\tdef moveZeroes(self, nums: List[int]) -> None:\n",
    "\t\"\"\"\n",
    "\tDo not return anything, modify nums in-place instead.\n",
    "\t\"\"\"\n",
    "\t\tcount = 0 # 记录有几个0\n",
    "\t\tls = []\n",
    "\t\tfor i in range(len(nums)):\n",
    "\t\t# print(\"Process: \",i, nums[i])\n",
    "\t\tif nums[i] == 0:\n",
    "\t\t\tcount += 1\n",
    "\t\tfor j in range(count):\n",
    "\t\t\tnums.remove(0)\n",
    "\t\t\n",
    "\t\tfor k in range(count):\n",
    "\t\t\tnums.append(0)"
   ]
  },
  {
   "cell_type": "markdown",
   "metadata": {},
   "source": [
    "双指针思想：把非0数往较前的方向移动，right指针寻找数组中非0数，left指针记录非0数被放置的位置。快指针+慢指针"
   ]
  },
  {
   "cell_type": "code",
   "execution_count": null,
   "metadata": {},
   "outputs": [],
   "source": [
    "class Solution:\n",
    "    def moveZeroes(self, nums):\n",
    "        \"\"\"\n",
    "        :type nums: List[int]\n",
    "        :rtype: None Do not return anything, modify nums in-place instead.\n",
    "        快慢指针：快指针j一直循环+1， 慢指针i只有在交换时+1\n",
    "        不等于0:存放在第i个非零元素位置\n",
    "        \"\"\"\n",
    "        left = 0 # 第一个指针，left\n",
    "        for right in range(len(nums)):  # 第二个指针，right，在for循环中实现移动\n",
    "            # 核心的交换步骤：如果当前right不为0，则交换到左侧，把非0数往左侧移动就对了\n",
    "            if nums[right]: \n",
    "                nums[left], nums[right] = nums[right], nums[left]\n",
    "                left += 1 # 交换后也移动left"
   ]
  },
  {
   "cell_type": "markdown",
   "metadata": {},
   "source": [
    "### Q392. 判断子序列\n",
    "\n",
    "给定字符串 **s** 和 **t** ，判断 **s** 是否为 **t** 的子序列。\n",
    "字符串的一个子序列是原始字符串删除一些（也可以不删除）字符而不改变剩余字符相对位置形成的新字符串。（例如，`\"ace\"`是`\"abcde\"`的一个子序列，而`\"aec\"`不是）。"
   ]
  },
  {
   "cell_type": "code",
   "execution_count": null,
   "metadata": {},
   "outputs": [],
   "source": [
    "class Solution:\n",
    "    def isSubsequence(self, s: str, t: str) -> bool:\n",
    "        ns = len(s)\n",
    "        nt = len(t)\n",
    "        i, j = 0, 0\n",
    "        while i < ns and j < nt:\n",
    "            if s[i] == t[j]:\n",
    "                i += 1\n",
    "                # j += 1\n",
    "            # 无论是否相等j+1\n",
    "            j += 1\n",
    "        return i == ns # 代码优化"
   ]
  },
  {
   "cell_type": "markdown",
   "metadata": {},
   "source": [
    "### Q167. 两数之和II-输入有序数组\n",
    "\n",
    "给你一个下标从 **1** 开始的整数数组 `numbers` ，该数组已按 **非递减顺序排列**  ，请你从数组中找出满足相加之和等于目标数 `target` 的两个数。如果设这两个数分别是 `numbers[index1]` 和 `numbers[index2]` ，则 `1 <= index1 < index2 <= numbers.length` 。\n",
    "\n",
    "以长度为 2 的整数数组 `[index1, index2]` 的形式返回这两个整数的下标 `index1` 和 `index2`。"
   ]
  },
  {
   "cell_type": "code",
   "execution_count": null,
   "metadata": {},
   "outputs": [],
   "source": [
    "class Solution:\n",
    "    def twoSum(self, numbers: List[int], target: int) -> List[int]:\n",
    "        l, r = 0, len(numbers)-1\n",
    "        while l != r:\n",
    "            if numbers[l] + numbers[r] == target:\n",
    "                return [l+1,r+1]\n",
    "            elif numbers[l] + numbers[r] > target:\n",
    "                r -= 1\n",
    "            else:\n",
    "                l += 1"
   ]
  },
  {
   "cell_type": "markdown",
   "metadata": {},
   "source": [
    "### Q11. 盛最多水的容器\n",
    "给定一个长度为 `n` 的整数数组 `height` 。有 `n` 条垂线，第 `i` 条线的两个端点是 `(i, 0)` 和 `(i, height[i])` 。找出其中的两条线，使得它们与 `x` 轴共同构成的容器可以容纳最多的水。返回容器可以储存的最大水量。\n",
    "输入：[1,8,6,2,5,4,8,3,7]\n",
    "输出：49 \n",
    "解释：图中垂直线代表输入数组 [1,8,6,2,5,4,8,3,7]。在此情况下，容器能够容纳水（表示为蓝色部分）的最大值为 49。"
   ]
  },
  {
   "cell_type": "code",
   "execution_count": null,
   "metadata": {},
   "outputs": [],
   "source": [
    "class Solution:\n",
    "\tdef maxArea(self, height: List[int]) -> int:\n",
    "\t\tmaxContain = 0\n",
    "\t\tl = 0\n",
    "\t\tr = len(height)-1\n",
    "\n",
    "\t\twhile(r!=l):\n",
    "\t\t\tstep = r - l\n",
    "\t\t\th = min(height[r], height[l])\n",
    "\t\t\tmaxContain = max(maxContain, h*step)\n",
    "\t\t\tif h == height[r]:  # 舍弃更矮的墙，移动看看能不能获得更大的值\n",
    "\t\t\t\tr = r - 1\n",
    "\t\t\telse:\n",
    "\t\t\t\tl = l + 1\n",
    "\treturn maxContain"
   ]
  },
  {
   "cell_type": "markdown",
   "metadata": {},
   "source": [
    "### Q15. 三数之和\n",
    "给你一个整数数组 `nums` ，判断是否存在三元组 `[nums[i], nums[j], nums[k]]` 满足 `i != j`、`i != k` 且 `j != k` ，同时还满足 `nums[i] + nums[j] + nums[k] == 0` 。请\n",
    "你返回所有和为 `0` 且不重复的三元组。\n",
    "找二元组，首尾指针跳过相同的值往中间移动，判断剩下的值是否在中间（找目标值与二元组的差）"
   ]
  },
  {
   "cell_type": "code",
   "execution_count": null,
   "metadata": {},
   "outputs": [],
   "source": [
    "class Solution:\n",
    "    def threeSum(self, nums: List[int]) -> List[List[int]]:\n",
    "        \"\"\"\n",
    "        总指针遍历数组i\n",
    "        从小到大排序\n",
    "        若三个数之和<0，说明需要更大的值，左指针需要移动j\n",
    "        若三个数之和>0,需要更小值，右指针向左移动k\n",
    "        \"\"\"\n",
    "        nums.sort()\n",
    "        numsort = nums\n",
    "        rel = []\n",
    "        for i in range(len(numsort)):\n",
    "            j = i + 1\n",
    "            k = len(numsort) - 1\n",
    "            # 去重操作\n",
    "            if i != 0 and numsort[i] == numsort[i - 1]:\n",
    "                continue\n",
    "            while j < k:\n",
    "                if (numsort[j] + numsort[k] + numsort[i]) == 0:\n",
    "                    if [numsort[i], numsort[j], numsort[k]] not in rel:\n",
    "                        rel.append([numsort[i], numsort[j], numsort[k]])\n",
    "                    j = j + 1\n",
    "                    k = k - 1\n",
    "                elif (numsort[j] + numsort[k] + numsort[i]) < 0:\n",
    "                    j = j + 1\n",
    "                else:\n",
    "                    k = k - 1\n",
    "        return list(rel)"
   ]
  },
  {
   "cell_type": "markdown",
   "metadata": {},
   "source": [
    "### Q42. 接雨水\n",
    "给定 `n` 个非负整数表示每个宽度为 `1` 的柱子的高度图，计算按此排列的柱子，下雨之后能接多少雨水。\n",
    "输入：height = [0,1,0,2,1,0,1,3,2,1,2,1]\n",
    "输出：6\n",
    "解释：上面是由数组 [0,1,0,2,1,0,1,3,2,1,2,1] 表示的高度图，在这种情况下，可以接 6 个单位的雨水。"
   ]
  },
  {
   "cell_type": "code",
   "execution_count": null,
   "metadata": {},
   "outputs": [],
   "source": [
    "class Solution:\n",
    "    def trap(self, height: List[int]) -> int:\n",
    "        res = 0\n",
    "        p, q = 0, len(height) - 1\n",
    "        l, r = height[p], height[q]   # 存左右两边最高的高度\n",
    "\n",
    "        while p < q:   # 左右两指针未相聚\n",
    "            l, r = max(l, height[p]), max(r, height[q]) # 左右最高的高度\n",
    "            if l < r: # 左边高度小，意味着右边可以存更多的雨水\n",
    "                res += l - height[p] # 如果左边移动的时候升高了（height[p]更大，则存不住雨水，如果降低了，就可以存l-height[p]的雨水\n",
    "                p += 1\n",
    "            else:\n",
    "                res += r - height[q] # 同理\n",
    "                q -= 1\n",
    "        return res"
   ]
  },
  {
   "cell_type": "markdown",
   "metadata": {},
   "source": [
    "单调栈法"
   ]
  },
  {
   "cell_type": "code",
   "execution_count": null,
   "metadata": {},
   "outputs": [],
   "source": [
    "def trap_stack(self, height: List[int]) -> int:\n",
    "        \"\"\"\n",
    "        单调栈接法：后面的小于栈顶时有积水，栈用来存单调递减的下标\n",
    "        出现比上一个高的值时会形成低洼处，弹出栈\n",
    "        \"\"\"\n",
    "        res = 0\n",
    "        stack = []\n",
    "        for i in range(len(height)):\n",
    "            while stack and height[i] > height[stack[-1]]:\n",
    "                top = stack.pop()\n",
    "                if not stack:   # 找不到左墙了\n",
    "                    break\n",
    "                w = i - stack[-1] - 1\n",
    "                h = min(height[i], height[stack[-1]]) - height[top]\n",
    "                res += w * h\n",
    "\n",
    "            stack.append(i)\n",
    "        return res"
   ]
  }
 ],
 "metadata": {
  "kernelspec": {
   "display_name": "Python 3",
   "language": "python",
   "name": "python3"
  },
  "language_info": {
   "codemirror_mode": {
    "name": "ipython",
    "version": 3
   },
   "file_extension": ".py",
   "mimetype": "text/x-python",
   "name": "python",
   "nbconvert_exporter": "python",
   "pygments_lexer": "ipython3",
   "version": "3.7.0"
  }
 },
 "nbformat": 4,
 "nbformat_minor": 2
}
