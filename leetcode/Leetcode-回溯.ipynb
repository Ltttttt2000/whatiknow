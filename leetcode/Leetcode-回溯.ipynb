{
 "cells": [
  {
   "cell_type": "markdown",
   "metadata": {},
   "source": [
    "### Q46. 全排列\n",
    "给定一个不含重复数字的数组 `nums` ，返回其 _所有可能的全排列_ 。你可以 **按任意顺序** 返回答案。e.g. 输入：nums = [1,2,3], 输出：[ [1,2,3],[1,3,2],[2,1,3],[2,3,1],[3,1,2],[3,2,1] ]"
   ]
  },
  {
   "cell_type": "code",
   "execution_count": null,
   "metadata": {},
   "outputs": [],
   "source": [
    "class Solution:\n",
    "\tdef permute(self, nums: List[int]) -> List[List[int]]:\n",
    "\t\tif not nums:\n",
    "\t\t\treturn []\n",
    "\n",
    "\t\tvisited = [False] * len(nums) # 当前位置有没有走过\n",
    "\t\tres = []\n",
    "\t\tdef dfs(res, path, deep, visited):\n",
    "\t\t\tif len(nums) == deep:\n",
    "\t\t\t\tres.append(path[:]) # 注意取path的所有元素\n",
    "\t\t\t\t\n",
    "\t\t\tfor i in range(len(nums)):\n",
    "\t\t\t\tif visited[i] == False:\n",
    "\t\t\t\t\tvisited[i] = True\n",
    "\t\t\t\t\tpath.append(nums[i])\n",
    "\t\t\t\t\tdfs(res, path, deep+1, visited)#递归\n",
    "\t\t\t\t\t# 回溯,再去找下一个位置\n",
    "\t\t\t\t\tpath.pop()\n",
    "\t\t\t\t\tvisited[i] = False \n",
    "\t\tdfs(res, [], 0, visited)\n",
    "\t\treturn res\t\t"
   ]
  },
  {
   "cell_type": "markdown",
   "metadata": {},
   "source": [
    "### Q78. 子集"
   ]
  },
  {
   "cell_type": "code",
   "execution_count": null,
   "metadata": {},
   "outputs": [],
   "source": [
    "class Solution:\n",
    "\tdef subsets(self, nums: List[int]) -> List[List[int]]:\n",
    "\t\tdef dfs(index, path, res):\n",
    "\t\t\tres.append(path[:])\n",
    "\t\t\tfor i in range(index, len(nums)):\n",
    "\t\t\t\tpath.append(nums[i])\n",
    "\t\t\t\tdfs(i+1, path, res) # 这里传递的是i+1!!!\n",
    "\t\t\t\tpath.pop()\n",
    "\t\tres = []\n",
    "\t\tdfs(0, [], res)\n",
    "\t\treturn res"
   ]
  },
  {
   "cell_type": "markdown",
   "metadata": {},
   "source": [
    "### Q39. 组合总和\n",
    "给你一个 **无重复元素** 的整数数组 `candidates` 和一个目标整数 `target` ，找出 `candidates` 中可以使数字和为目标数 `target` 的 所有 **不同组合** ，并以列表形式返回。你可以按 **任意顺序** 返回这些组合。`candidates` 中的 **同一个** 数字可以 **无限制重复被选取** 。如果至少一个数字的被选数量不同，则两种组合是不同的。 对于给定的输入，保证和为 `target` 的不同组合数少于 `150` 个。\n",
    "输入：candidates = `[2,3,6,7],` target = `7`\n",
    "输出：[ [2,2,3],[7] ] "
   ]
  },
  {
   "cell_type": "code",
   "execution_count": null,
   "metadata": {},
   "outputs": [],
   "source": [
    "class Solution:\n",
    "    def combinationSum(self, candidates: List[int], target: int) -> List[List[int]]:\n",
    "        if candidates == []:\n",
    "            return []\n",
    "        def dfs(res, path, target, index):\n",
    "            if target == 0:\n",
    "                res.append(path[:])\n",
    "\n",
    "            for i in range(index, len(candidates)):\n",
    "                if target >= candidates[i]:\n",
    "                    path.append(candidates[i])\n",
    "                    dfs(res, path, target-candidates[i], i)\n",
    "                    path.pop()\n",
    "        res = []\n",
    "        dfs(res, [], target, 0)\n",
    "        return res"
   ]
  },
  {
   "cell_type": "markdown",
   "metadata": {},
   "source": [
    "### Q77. 组合问题II\n",
    "1-n找到长度为k的数组的组合"
   ]
  },
  {
   "cell_type": "code",
   "execution_count": null,
   "metadata": {},
   "outputs": [],
   "source": [
    "class Solution:\n",
    "    def combine(self, n: int, k: int) -> List[List[int]]:\n",
    "        res = []\n",
    "        def backtrack(index, path, res):\n",
    "            if len(path) == k:\n",
    "                res.append(path[:])\n",
    "                return \n",
    "            for i in range(index, n+1):\n",
    "                path.append(i)\n",
    "                backtrack(i+1, path, res)\n",
    "                path.pop()\n",
    "        backtrack(1,[],res)\n",
    "        return res"
   ]
  },
  {
   "cell_type": "markdown",
   "metadata": {},
   "source": [
    "### Q22. 括号生成\n",
    "数字 `n` 代表生成括号的对数，请你设计一个函数，用于能够生成所有可能的并且 **有效的** 括号组合。n=3,[\"((()))\",\"(()())\",\"(())()\",\"()(())\",\"()()()\"]"
   ]
  },
  {
   "cell_type": "code",
   "execution_count": null,
   "metadata": {},
   "outputs": [],
   "source": [
    "class Solution(object):\n",
    "    def generateParenthesis(self, N):\n",
    "        \n",
    "        # 递归的加括号\n",
    "        def backtrack(N, ans, S, left, right):\n",
    "            if left == right == N:\n",
    "                ans.append(S)\n",
    "                return \n",
    "            # 已经不合格\n",
    "            # 可以加左括号\n",
    "            if left < N:\n",
    "                backtrack(N, ans, S+'(', left+1, right)\n",
    "            if right < left:\n",
    "                backtrack(N, ans, S+')', left, right+1)\n",
    "       \n",
    "        ans = []\n",
    "        backtrack(N, ans, '', 0, 0)\n",
    "        return ans"
   ]
  },
  {
   "cell_type": "markdown",
   "metadata": {},
   "source": [
    "### 131. 分割回文串"
   ]
  },
  {
   "cell_type": "code",
   "execution_count": null,
   "metadata": {},
   "outputs": [],
   "source": [
    "class Solution:\n",
    "    def partition(self, s: str) -> List[List[str]]:\n",
    "        def isHuiwen(s):\n",
    "            if s == s[::-1]:\n",
    "                return True\n",
    "            return False\n",
    "\n",
    "        def backtrack(s, res, path):\n",
    "            if not s:\n",
    "                res.append(path)\n",
    "                return\n",
    "            \n",
    "            for i in range(1, len(s)+1):\n",
    "                if isHuiwen(s[:i]):\n",
    "                    backtrack(s[i:], res, path + [s[:i]])\n",
    "        res = []\n",
    "        backtrack(s, res, [])\n",
    "\n",
    "        return res"
   ]
  },
  {
   "cell_type": "markdown",
   "metadata": {},
   "source": [
    "### Q17. 电话号码的字母组合\n",
    "给定一个仅包含数字 `2-9` 的字符串，返回所有它能表示的字母组合。答案可以按 **任意顺序** 返回。给出数字到字母的映射如下（与电话按键相同）。注意 1 不对应任何字母。\n",
    "输入：digits = \"23\"\n",
    "输出：[\"ad\",\"ae\",\"af\",\"bd\",\"be\",\"bf\",\"cd\",\"ce\",\"cf\"]"
   ]
  },
  {
   "cell_type": "code",
   "execution_count": null,
   "metadata": {},
   "outputs": [],
   "source": []
  }
 ],
 "metadata": {
  "kernelspec": {
   "display_name": "Python 3",
   "language": "python",
   "name": "python3"
  },
  "language_info": {
   "codemirror_mode": {
    "name": "ipython",
    "version": 3
   },
   "file_extension": ".py",
   "mimetype": "text/x-python",
   "name": "python",
   "nbconvert_exporter": "python",
   "pygments_lexer": "ipython3",
   "version": "3.7.0"
  }
 },
 "nbformat": 4,
 "nbformat_minor": 2
}
