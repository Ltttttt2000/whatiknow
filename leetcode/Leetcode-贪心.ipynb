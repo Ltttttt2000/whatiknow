{
 "cells": [
  {
   "cell_type": "markdown",
   "metadata": {},
   "source": [
    "局部最优推出全局最优\n",
    "### Q121. 买股票的最佳时机\n",
    "给定一个数组 `prices` ，它的第 `i` 个元素 `prices[i]` 表示一支给定股票第 `i` 天的价格。\n",
    "你只能选择 **某一天** 买入这只股票，并选择在 **未来的某一个不同的日子** 卖出该股票。设计一个算法来计算你所能获取的最大利润。\n",
    "返回你可以从这笔交易中获取的最大利润。如果你不能获取任何利润，返回 `0` 。"
   ]
  },
  {
   "cell_type": "code",
   "execution_count": null,
   "metadata": {},
   "outputs": [],
   "source": [
    "class Solution(object):\n",
    "    def maxProfit(self, prices):\n",
    "\n",
    "        if len(prices) == 1:\n",
    "            return 0\n",
    "\n",
    "        min_value = prices[0]\n",
    "        max_value = 0\n",
    "        \n",
    "        for i in range(1,len(prices)):\n",
    "            max_value = max(max_value, prices[i] - min_value) # 记录最大利润\n",
    "            min_value = min(min_value,prices[i]) # 记录第i天之前的最小值\n",
    "        return max_value"
   ]
  },
  {
   "cell_type": "markdown",
   "metadata": {},
   "source": [
    "### Q55.跳跃游戏I\n",
    "给你一个非负整数数组 `nums` ，你最初位于数组的 **第一个下标** 。数组中的每个元素代表你在该位置可以跳跃的最大长度。\n",
    "判断你是否能够到达最后一个下标，如果可以，返回 `true` ；否则，返回 `false` 。\n",
    "输入：nums = [2,3,1,1,4]\n",
    "输出：true\n",
    "解释：可以先跳 1 步，从下标 0 到达下标 1, 然后再从下标 1 跳 3 步到达最后一个下标。"
   ]
  },
  {
   "cell_type": "code",
   "execution_count": null,
   "metadata": {},
   "outputs": [],
   "source": [
    "class Solution:\n",
    "    def canJump(self, nums: List[int]) -> bool:\n",
    "        maxPoint = 0\n",
    "        maxPos = 0  # 当前能到达的最远下标\n",
    "        for i in range(len(nums)):\n",
    "            if i > maxPos:\n",
    "                return False\n",
    "            else:\n",
    "                maxPos = max(maxPos, i + nums[i])  # 更新当前能到达的最远下标\n",
    "\n",
    "        return True"
   ]
  },
  {
   "cell_type": "markdown",
   "metadata": {},
   "source": [
    "### Q45. 跳跃游戏II"
   ]
  },
  {
   "cell_type": "code",
   "execution_count": null,
   "metadata": {},
   "outputs": [],
   "source": [
    "class Solution:\n",
    "    def jump(self, nums: List[int]) -> int:\n",
    "        maxPos = 0\n",
    "        end, step = 0, 0\n",
    "        for i in range(len(nums)-1):\n",
    "            if i <= maxPos:\n",
    "                maxPos = max(maxPos, i+nums[i])\n",
    "                if i == end:\n",
    "                    end = maxPos\n",
    "                    step += 1\n",
    "        return step"
   ]
  }
 ],
 "metadata": {
  "kernelspec": {
   "display_name": "Python 3",
   "language": "python",
   "name": "python3"
  },
  "language_info": {
   "codemirror_mode": {
    "name": "ipython",
    "version": 3
   },
   "file_extension": ".py",
   "mimetype": "text/x-python",
   "name": "python",
   "nbconvert_exporter": "python",
   "pygments_lexer": "ipython3",
   "version": "3.7.0"
  }
 },
 "nbformat": 4,
 "nbformat_minor": 2
}
