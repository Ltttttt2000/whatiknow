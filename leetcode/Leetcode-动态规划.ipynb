{
 "cells": [
  {
   "cell_type": "markdown",
   "metadata": {},
   "source": [
    "# 简单：状态转移方程\n",
    "状态转移方程，分成一个个的阶段，每个阶段都有最优解"
   ]
  },
  {
   "cell_type": "markdown",
   "metadata": {},
   "source": [
    "Q70. 爬楼梯\n",
    "\n",
    "一次只能走1或2个台阶，一共有几种走法 dp[i]代表上到第i个台阶的最优解递归，斐波那契状态转移方程a[i] = a[i-1] + a[i-1]"
   ]
  },
  {
   "cell_type": "code",
   "execution_count": 1,
   "metadata": {},
   "outputs": [],
   "source": [
    "class Solution:\n",
    "    def climbStairs(self, n: int) -> int:\n",
    "        dp = [0] * (n + 1)\n",
    "        dp[0] = dp[1] = 1\n",
    "        for i in range(2, n + 1):\n",
    "            dp[i] = dp[i - 1] + dp[i - 2]\n",
    "        return dp[-1]"
   ]
  },
  {
   "cell_type": "markdown",
   "metadata": {},
   "source": [
    "Q118. 杨辉三角"
   ]
  },
  {
   "cell_type": "code",
   "execution_count": null,
   "metadata": {},
   "outputs": [],
   "source": [
    "class Solution:\n",
    "    def generate(self, numRows: int) -> List[List[int]]:\n",
    "\n",
    "        if numRows == 1:\n",
    "            ls = []\n",
    "            ls.append([1])\n",
    "            return ls\n",
    "\n",
    "\n",
    "        else:\n",
    "            cal = self.generate(numRows-1)\n",
    "            ls = cal[len(cal)-1]\n",
    "            # print(cal)\n",
    "            result = []\n",
    "            result.append(ls[0])\n",
    "            for i in range(len(ls)-1):\n",
    "                result.append(ls[i]+ls[i+1])\n",
    "\n",
    "            result.append(ls[len(ls)-1])\n",
    "\n",
    "            # print(result)\n",
    "\n",
    "            cal.append(result)\n",
    "\n",
    "            return cal"
   ]
  },
  {
   "cell_type": "markdown",
   "metadata": {},
   "source": [
    "Q198. 打家劫舍\n",
    "\n",
    "不相邻数的最大和 dp[i] = max(dp[i-2] + num[i], dp[i-1])"
   ]
  },
  {
   "cell_type": "code",
   "execution_count": null,
   "metadata": {},
   "outputs": [],
   "source": [
    "from typing import List\n",
    "class Solution:\n",
    "    def rob(self, nums: List[int]) -> int:\n",
    "        \n",
    "        if len(nums) == 1:\n",
    "            return nums[0]\n",
    "        if len(nums) == 2:\n",
    "            return max(nums)\n",
    "        dp = [0] * len(nums)\n",
    "        dp[0] = nums[0]\n",
    "        dp[1] = max(nums[0], nums[1])\n",
    "        \n",
    "        for i in range(2, len(nums)):\n",
    "            dp[i] = max(dp[i - 2] + nums[i], dp[i - 1])\n",
    "        \n",
    "        return max(dp)\n",
    "        \n",
    "nums = [1,2,3,1]\n",
    "print(Solution().rob(nums))"
   ]
  },
  {
   "cell_type": "code",
   "execution_count": null,
   "metadata": {},
   "outputs": [],
   "source": [
    "Q416. 分割等和子集"
   ]
  },
  {
   "cell_type": "code",
   "execution_count": null,
   "metadata": {},
   "outputs": [],
   "source": [
    "from typing import List\n",
    "class Solution:\n",
    "    def canPartition(self, nums: List[int]) -> bool:\n",
    "        if len(nums) == 1:\n",
    "            return False\n",
    "        s = sum(nums)\n",
    "        if s %2 != 0:\n",
    "            return False\n",
    "        \n",
    "        target = s // 2\n",
    "        dp = [[False] * (target + 1) for _ in range(len(nums))]\n",
    "        \n",
    "        for i in range(len(nums)):\n",
    "            dp[i][0] = True\n",
    "        \n",
    "        for i in range(len(nums)):\n",
    "            for j in range(target + 1):\n",
    "                if j >= nums[i]:\n",
    "                    dp[i][j] = max(dp[i - 1][j - nums[i]], dp[i - 1][j])\n",
    "                else:\n",
    "                    dp[i][j] = dp[i - 1][j]\n",
    "        return dp[-1][-1]"
   ]
  },
  {
   "cell_type": "markdown",
   "metadata": {},
   "source": [
    "# 复杂：多维动态规划"
   ]
  },
  {
   "cell_type": "markdown",
   "metadata": {},
   "source": [
    "### Q62. 不同路径\n",
    "\n",
    "一个机器人位于一个 `m x n` 网格的左上角 （起始点在下图中标记为 “Start” ）。\n",
    "机器人每次只能向下或者向右移动一步。机器人试图达到网格的右下角（在下图中标记为 “Finish” ）。问总共有多少条不同的路径？\n",
    "\n",
    "        核心思想：\n",
    "                看到这道题，如果学过动态规划的话，肯定会首先想到使用动态规划来解\n",
    "                根据题目内容来定义dp[i][j]\n",
    "                这里的dp[i][j]表示从左上角到达(i,j)位置最多路径数\n",
    "                动态规划解法:\n",
    "                    定义 f[i][j] 为到达位置 (i,j) 的不同路径数量。\n",
    "                    那么 f[n-1][m-1] 就是我们最终的答案，而 f[0][0] = 1 是一个显而易见的起始条件。\n",
    "                    由于题目限定了我们只能 往下 或者 往右 移动，因此我们按照当前可选方向进行分析：\n",
    "                        1.当前位置只能往下移动，即有 f[i][j] = f[i-1][j] (边界)\n",
    "                        2.当前位置只能往右移动，即有 f[i][j] = f[i][j-1] (边界)\n",
    "                        3.当前位置即能往下也能往右移动，即有 f[i][j] = f[i][j-1] + f[i-1][j]"
   ]
  },
  {
   "cell_type": "code",
   "execution_count": 3,
   "metadata": {},
   "outputs": [],
   "source": [
    "class Solution:\n",
    "\tdef uniquePaths(self, m: int, n: int) -> int:\n",
    "\t\tdp = [[0 for i in range(n)] for i in range(m)]\n",
    "\t\tdp[0][0] = 1\n",
    "\t\tfor i in range(m):\n",
    "\t\t\tfor j in range(n):\n",
    "\t\t\t# 既能往下也能往右移动\n",
    "\t\t\t\tif i > 0 and j > 0:\n",
    "\t\t\t\t\tdp[i][j] = dp[i-1][j] + dp[i][j-1] # 非边界位置，因此它可以是从上边来的，可以是从左边来的\n",
    "\t\t\t\telif i > 0: # 位于左边界 从上一个点过来只能往下走\n",
    "\t\t\t\t\tdp[i][j] = dp[i-1][j]\n",
    "\t\t\t\telif j > 0: # i=0位于上边界 从上一个点过来只能往右走\n",
    "\t\t\t\t\tdp[i][j] = dp[i][j-1] # 唯一一条路到这里\n",
    "\t\treturn dp[-1][-1]"
   ]
  },
  {
   "cell_type": "markdown",
   "metadata": {},
   "source": [
    "### Q5. 最长回文子串\n",
    "\n",
    "给你一个字符串 `s`，找到 `s` 中最长的回文子串。\n",
    "如果字符串的反序与原始字符串相同，则该字符串称为回文字符串。"
   ]
  },
  {
   "cell_type": "code",
   "execution_count": 4,
   "metadata": {},
   "outputs": [],
   "source": [
    "class Solution(object):\n",
    "    def longestPalindrome(self, s):\n",
    "        \"\"\"\n",
    "        :type s: str\n",
    "        :rtype: str\n",
    "        \"\"\"\n",
    "        max_l = 0\n",
    "        res = \"\"\n",
    "        for i in range(0, len(s)):\n",
    "            #以s[i] 为中心向左右扩散\n",
    "            left, right = i, i\n",
    "            while(left >= 0 and right < len(s) and s[left] == s[right]):\n",
    "                if max_l < right - left + 1:\n",
    "                    max_l = right - left + 1\n",
    "                    res = s[left:right + 1]\n",
    "                left -= 1\n",
    "                right += 1\n",
    "                        \n",
    "            #以s[i],s[i+1]为中心向左右扩散\n",
    "            left, right = i, i + 1\n",
    "            while(left >= 0 and right < len(s) and s[left] == s[right]):\n",
    "                if max_l < right - left + 1:\n",
    "                    max_l = right - left + 1\n",
    "                    res = s[left:right + 1]\n",
    "                left -= 1\n",
    "                right += 1            \n",
    "        return res"
   ]
  },
  {
   "cell_type": "markdown",
   "metadata": {},
   "source": [
    "### Q1143. 最长公共子序列（不连续但是有顺序）\n",
    "\n",
    "给定两个字符串 `text1` 和 `text2`，返回这两个字符串的最长 **公共子序列** 的长度。如果不存在 **公共子序列** ，返回 `0` 。\n",
    "一个字符串的 **子序列** 是指这样一个新的字符串：它是由原字符串在不改变字符的相对顺序的情况下删除某些字符（也可以不删除任何字符）后组成的新字符串。\n",
    "- 例如，`\"ace\"` 是 `\"abcde\"` 的子序列，但 `\"aec\"` 不是 `\"abcde\"` 的子序列。\n",
    "两个字符串的 **公共子序列** 是这两个字符串所共同拥有的子序列。"
   ]
  },
  {
   "cell_type": "code",
   "execution_count": 7,
   "metadata": {},
   "outputs": [],
   "source": [
    "class Solution:\n",
    "    def longestCommonSubsequence(self, text1: str, text2: str) -> int:\n",
    "        res = 0\n",
    "        # 初始化二维数组dp\n",
    "        coloum = len(text1)\n",
    "        row = len(text2)\n",
    "        dp = [[0 for i in range(coloum+1)] for j in range(row+1)]\n",
    "\n",
    "        for i in range(1, row+1):\n",
    "            for j in range(1, coloum+1):\n",
    "                if text1[j-1]==text2[i-1]:\n",
    "                    dp[i][j] = dp[i - 1][j - 1] + 1\n",
    "                else:\n",
    "                    dp[i][j] = max(dp[i - 1][j], dp[i][j - 1])\n",
    "\n",
    "        res = dp[row][coloum]\n",
    "\n",
    "        # 回溯法获得子序列\n",
    "        lcs = \"\"\n",
    "        while i > 0 and j > 0:\n",
    "            if text1[j - 1] == text2[i - 1]:\n",
    "                lcs = text1[i - 1] + lcs\n",
    "                i -= 1\n",
    "                j -= 1\n",
    "            elif dp[i - 1][j] > dp[i][j - 1]:\n",
    "                i -= 1\n",
    "            else:\n",
    "                j -= 1\n",
    "\n",
    "        return res, lcs"
   ]
  },
  {
   "cell_type": "markdown",
   "metadata": {},
   "source": [
    "### 最长公共子串"
   ]
  },
  {
   "cell_type": "code",
   "execution_count": null,
   "metadata": {},
   "outputs": [],
   "source": [
    "def f(A, B):\n",
    "\tcoloum = len(A)\n",
    "\trow = len(B)\n",
    "\tdp = [[0 for i in range(coloum + 1)] for j in range(row+1)]\n",
    "\n",
    "\tmax_v = 0\n",
    "\ti = 0\n",
    "\tj = 0\n",
    "\tfor i in range(1, row + 1):\n",
    "\t\tfor j in range(1, coloum + 1):\n",
    "\t\t\tif A[j - 1] == B[i - 1]:\n",
    "\t\t\t\tdp[i][j] = dp[i-1][j-1] + 1\n",
    "\t\t\telse:\n",
    "\t\t\t\tdp[i][j] = max(dp[i-1][j], dp[i][j-1])"
   ]
  },
  {
   "cell_type": "code",
   "execution_count": null,
   "metadata": {},
   "outputs": [],
   "source": [
    "### Q64. 最小路径和\n",
    "\n",
    "给定一个包含非负整数的 `_m_ x _n_` 网格 `grid` ，请找出一条从左上角到右下角的路径，使得路径上的数字总和为最小。"
   ]
  },
  {
   "cell_type": "code",
   "execution_count": null,
   "metadata": {},
   "outputs": [],
   "source": [
    "class Solution:\n",
    "\"\"\"输入：grid = [[1,3,1],[1,5,1],[4,2,1]]\n",
    "输出：7\n",
    "解释：因为路径 1→3→1→1→1 的总和最小。\n",
    "用f(i,j)表示从（0,0)到(i,j)的最小路径\n",
    "状态转移方程 O(M*N)\n",
    "f(i,j) = f(i-1,j)+O(i,j)\n",
    "f(i,j) = f(i, j-1) + O(i,j)\n",
    "f(i,j) = min{两种方法} \"\"\"\n",
    "    def minPathSum(self, grid):\n",
    "        \"\"\"\n",
    "        :type grid: List[List[int]]\n",
    "        :rtype: int\n",
    "        \"\"\"\n",
    "        if grid == None :\n",
    "            return 0\n",
    "        if len(grid)==0 or len(grid[0])==0:   # 只有一行or一列\n",
    "            return sum(grid)\n",
    "        \n",
    "        m = len(grid)\n",
    "        n = len(grid[0])\n",
    "        # 初始化动态方程\n",
    "        dp = [[0] * n for _ in range(m)]\n",
    "        dp[0][0] = grid[0][0]\n",
    "        for i in range(1, m):  # 第一列\n",
    "            dp[i][0] = dp[i-1][0] + grid[i][0]\n",
    "        for j in range(1, n):\n",
    "            dp[0][j] = dp[0][j-1] + grid[0][j]\n",
    "            \n",
    "        for i in range(1, m):\n",
    "            for j in range(1, n):\n",
    "                dp[i][j] = min(dp[i-1][j], dp[i][j-1]) + grid[i][j]    \n",
    "        res = dp[-1][-1]\n",
    "         # 左上角到右下角\n",
    "        return res"
   ]
  },
  {
   "cell_type": "markdown",
   "metadata": {},
   "source": [
    "### Q72. 编辑距离\n",
    "\n",
    "给你两个单词 `word1` 和 `word2`， _请返回将 `word1` 转换成 `word2` 所使用的最少操作数_  。\n",
    "你可以对一个单词进行如下三种操作：\n",
    "- 插入一个字符\n",
    "- 删除一个字符\n",
    "- 替换一个字符\n",
    "**示例 1：**\n",
    "输入：word1 = \"horse\", word2 = \"ros\"\n",
    "输出：3\n",
    "解释：\n",
    "horse -> rorse (将 'h' 替换为 'r')\n",
    "rorse -> rose (删除 'r')\n",
    "rose -> ros (删除 'e')\n",
    "示例 2：\n",
    "输入：word1 = \"intention\", word2 = \"execution\"\n",
    "输出：5\n",
    "解释：\n",
    "intention -> inention (删除 't')\n",
    "inention -> enention (将 'i' 替换为 'e')\n",
    "enention -> exention (将 'n' 替换为 'x')\n",
    "exention -> exection (将 'n' 替换为 'c')\n",
    "exection -> execution (插入 'u')"
   ]
  },
  {
   "cell_type": "code",
   "execution_count": null,
   "metadata": {},
   "outputs": [],
   "source": [
    "class Solution:\n",
    "    def minDistance(self, word1, word2):\n",
    "        m = len(word1)\n",
    "        n = len(word2)\n",
    "        \n",
    "        dp = [[0] * (n + 1) for _ in range(m + 1)]\n",
    "        \n",
    "        for i in range(m + 1):  # 第一列最快删掉I个字符\n",
    "            dp[i][0] = i \n",
    "        \n",
    "        for j in range(n + 1):\n",
    "            dp[0][j] = j\n",
    "            \n",
    "        \n",
    "        for i in range(1, m + 1):\n",
    "            for j in range(1, n + 1):\n",
    "                if word1[i - 1] == word2[j - 1]:\n",
    "                    dp[i][j] = dp[i - 1][j - 1]\n",
    "                else:  # 删除，插入，替换操作\n",
    "                    dp[i][j] = min(dp[i - 1][j], dp[i][j - 1], dp[i - 1][j - 1]) + 1\n",
    "                    \n",
    "        return dp[-1][-1]"
   ]
  }
 ],
 "metadata": {
  "kernelspec": {
   "display_name": "Python 3",
   "language": "python",
   "name": "python3"
  },
  "language_info": {
   "codemirror_mode": {
    "name": "ipython",
    "version": 3
   },
   "file_extension": ".py",
   "mimetype": "text/x-python",
   "name": "python",
   "nbconvert_exporter": "python",
   "pygments_lexer": "ipython3",
   "version": "3.7.0"
  }
 },
 "nbformat": 4,
 "nbformat_minor": 2
}
