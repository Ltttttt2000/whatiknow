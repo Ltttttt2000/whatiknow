{
 "cells": [
  {
   "cell_type": "markdown",
   "metadata": {},
   "source": [
    "### Q136. 只出现一次的数字\n",
    "给你一个 **非空** 整数数组 `nums` ，除了某个元素只出现一次以外，其余每个元素均出现两次。找出那个只出现了一次的元素。"
   ]
  },
  {
   "cell_type": "code",
   "execution_count": null,
   "metadata": {},
   "outputs": [],
   "source": [
    "class Solution:\n",
    "    def singleNumber(self, nums: List[int]) -> int:\n",
    "        ls = []\n",
    "        for i in range(len(nums)):\n",
    "            if nums[i] not in ls:\n",
    "                ls.append(nums[i])\n",
    "            else:\n",
    "                ls.remove(nums[i])\n",
    "\n",
    "\n",
    "        return ls[0]"
   ]
  },
  {
   "cell_type": "markdown",
   "metadata": {},
   "source": [
    "### Q169. 多数元素\n",
    "给定一个大小为 `n` 的数组 `nums` ，返回其中的多数元素。多数元素是指在数组中出现次数 **大于** `⌊ n/2 ⌋` 的元素。"
   ]
  },
  {
   "cell_type": "code",
   "execution_count": null,
   "metadata": {},
   "outputs": [],
   "source": [
    "class Solution:\n",
    "    def majorityElement(self, nums: List[int]) -> int:\n",
    "        n = len(nums)\n",
    "        nums = sorted(nums)\n",
    "        # print(nums)\n",
    "        sum = 0\n",
    "        ls = {}   # 字典\n",
    "        nums_key = set(list(nums))\n",
    "        # print(nums_key)\n",
    "        for key in nums_key:\n",
    "            ls.setdefault(key,0)\n",
    "        # print(ls[1])\n",
    "\n",
    "\n",
    "        for i in range(n):\n",
    "            v = ls[nums[i]]\n",
    "            v += 1\n",
    "            # ls[nums[i]]=v\n",
    "            ls.update({nums[i]:v})\n",
    "\n",
    "        # print(ls)\n",
    "        for key, values in ls.items():\n",
    "            if values > n/2:\n",
    "                return key"
   ]
  },
  {
   "cell_type": "markdown",
   "metadata": {},
   "source": [
    "### Q75. 颜色分类\n",
    "给定一个包含红色、白色和蓝色、共 `n` 个元素的数组 `nums` ，原地对它们进行排序，使得相同颜色的元素相邻，并按照红色、白色、蓝色顺序排列。我们使用整数 `0`、 `1` 和 `2` 分别表示红色、白色和蓝色。\n",
    "必须在不使用库内置的 sort 函数的情况下解决这个问题。"
   ]
  },
  {
   "cell_type": "code",
   "execution_count": null,
   "metadata": {},
   "outputs": [],
   "source": [
    "class Solution:\n",
    "    def sortColors(self, nums: List[int]) -> None:\n",
    "        \"\"\"\n",
    "        Do not return anything, modify nums in-place instead.\n",
    "        \"\"\"\n",
    "        red = 0\n",
    "        white = 0\n",
    "        blue = 0\n",
    "        for i in range(len(nums)):\n",
    "            if nums[i] == 0:\n",
    "                red += 1\n",
    "            elif nums[i] == 1:\n",
    "                white += 1\n",
    "            else:\n",
    "                blue += 1\n",
    "        \n",
    "        nums.clear()\n",
    "        for j in range(red):\n",
    "            nums.append(0)\n",
    "        for j in range(white):\n",
    "            nums.append(1)\n",
    "        for j in range(blue):\n",
    "            nums.append(2)"
   ]
  }
 ],
 "metadata": {
  "kernelspec": {
   "display_name": "Python 3",
   "language": "python",
   "name": "python3"
  },
  "language_info": {
   "codemirror_mode": {
    "name": "ipython",
    "version": 3
   },
   "file_extension": ".py",
   "mimetype": "text/x-python",
   "name": "python",
   "nbconvert_exporter": "python",
   "pygments_lexer": "ipython3",
   "version": "3.7.0"
  }
 },
 "nbformat": 4,
 "nbformat_minor": 2
}
