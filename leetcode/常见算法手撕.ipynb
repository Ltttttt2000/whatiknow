{
 "cells": [
  {
   "cell_type": "markdown",
   "metadata": {},
   "source": [
    "时间复杂度：计算语句执行的顺序，平均复杂度：所有可能输入等概率情况下期望的允许时间\n",
    "空间复杂度：只考虑额外消耗的辅助空间（外界输入数据、变量、常数等不算范围内），要交换a和b时引入的第三块空间\n",
    "稳定性是指待排序的序列中有两元素相等,排序之后它们的先后顺序不变\n",
    "### 排序\n",
    "三种N2排序：插入（稳定），选择（不稳定），冒泡（稳定）\n",
    "冒泡排序"
   ]
  },
  {
   "cell_type": "code",
   "execution_count": 1,
   "metadata": {},
   "outputs": [],
   "source": [
    "def bubble_sort(arr):\n",
    "\tn = len(arr)\n",
    "\tfor i in range(n):\n",
    "\t\tfor j in range(n-i-1):\n",
    "\t\t\tif arr[j] > arr[j+1]:\n",
    "\t\t\t\tarr[j], arr[j+1] = arr[j+1], arr[j]\n",
    "\treturn arr\n"
   ]
  },
  {
   "cell_type": "markdown",
   "metadata": {},
   "source": [
    "选择排序"
   ]
  },
  {
   "cell_type": "code",
   "execution_count": 2,
   "metadata": {},
   "outputs": [],
   "source": [
    "def selection_sort(arr):\n",
    "\tn = len(arr)\n",
    "\tfor i in range(n):\n",
    "\t\tmin_idx = i\n",
    "\t\tfor j in range(i+1, n):\n",
    "\t\t\tif arr[j] < arr[mid_idx]:\n",
    "\t\t\t\tmin_idx = j\n",
    "\t\t\tarr[i], arr[min_idx] = arr[min_idx], arr[i]\n",
    "\treturn arr"
   ]
  },
  {
   "cell_type": "markdown",
   "metadata": {},
   "source": [
    "### 快速排序O(NlogN) 不稳定\n",
    "先选一个pivot，比pivot小的放左边，比pivot大的放右边。递归排左右两个子数组。"
   ]
  },
  {
   "cell_type": "code",
   "execution_count": 3,
   "metadata": {},
   "outputs": [],
   "source": [
    "def quick_sort(arr, start, end):  \n",
    "\tif end <= start:  \n",
    "\t\treturn arr  \n",
    "\ti, j = start, end  \n",
    "\tpivot = arr[start]  \n",
    "\t# j指向大的元素  \n",
    "\twhile j > i:  \n",
    "\t\tif arr[j] >= pivot: # 元素大，保留在右边，向前移动指针  \n",
    "\t\t\tj = j - 1  \n",
    "\t\telse: # 元素小  \n",
    "# 此处使用一行语句交换3个元素的值 arr[i] = arr[j], arr[j]=arr[i+1], arr[i+1]=arr[i]# 元素小，需要去前面的位置，i的后一个位置去j的位置，j到i的位置，  \n",
    "\t\t\tarr[i], arr[j], arr[i + 1] = arr[j], arr[i + 1], arr[i]  \n",
    "\t\t\ti = i + 1  \n",
    "\tquick_sort(arr, start=start, end=i - 1)  \n",
    "\tquick_sort(arr, start=i + 1, end=end)  \n",
    "\treturn arr"
   ]
  },
  {
   "cell_type": "markdown",
   "metadata": {},
   "source": [
    "归并排序O(NlogN) 稳定"
   ]
  },
  {
   "cell_type": "code",
   "execution_count": 4,
   "metadata": {},
   "outputs": [
    {
     "name": "stdout",
     "output_type": "stream",
     "text": [
      "[1, 2, 3, 4, 5, 6, 7, 21, 23, 45, 90]\n"
     ]
    }
   ],
   "source": [
    "def MergeSort(lists):  \n",
    "    if len(lists) <= 1:  \n",
    "        return lists  \n",
    "    num = int(len(lists) / 2)  \n",
    "    left = MergeSort(lists[:num])  \n",
    "    right = MergeSort(lists[num:])  \n",
    "    return Merge(left, right)  \n",
    "  \n",
    "  \n",
    "def Merge(left, right):  \n",
    "    r, l = 0, 0  \n",
    "    result = []  \n",
    "    while l < len(left) and r < len(right):  \n",
    "        if left[l] <= right[r]:  \n",
    "            result.append(left[l])  \n",
    "            l += 1  \n",
    "        else:  \n",
    "            result.append(right[r])  \n",
    "            r += 1  \n",
    "    result += list(left[l:])  # 剩下的\n",
    "    result += list(right[r:])  \n",
    "    return result  \n",
    "  \n",
    "print(MergeSort([1, 2, 3, 4, 5, 6, 7, 90, 21, 23, 45]))"
   ]
  },
  {
   "cell_type": "markdown",
   "metadata": {},
   "source": [
    "### 二分查找"
   ]
  },
  {
   "cell_type": "code",
   "execution_count": 5,
   "metadata": {},
   "outputs": [
    {
     "name": "stdout",
     "output_type": "stream",
     "text": [
      "4\n",
      "-1\n"
     ]
    }
   ],
   "source": [
    "def binary_search(arr,target):\n",
    "    start,end = 0,len(arr)-1\n",
    "    while True:\n",
    "        if end - start <=1:\n",
    "            if target == arr[start]:\n",
    "                return(start)\n",
    "            elif target == arr[end]:\n",
    "                return(end)\n",
    "            else:\n",
    "                return(-1)\n",
    " \n",
    "        mid = (start + end)//2\n",
    "        if arr[mid]>=target:\n",
    "            end = mid\n",
    "        else:\n",
    "            start = mid\n",
    " \n",
    "print(binary_search([1,4,7,8,9,12],9))\n",
    "print(binary_search([1,4,7,8,9,12],3))"
   ]
  },
  {
   "cell_type": "markdown",
   "metadata": {},
   "source": [
    "### 爬楼梯\n",
    "题目形式：有一个楼梯，总共有10级台阶，每次只能走一级或者两级台阶，全部走完，有多少种走法？"
   ]
  },
  {
   "cell_type": "code",
   "execution_count": 6,
   "metadata": {},
   "outputs": [],
   "source": [
    "class Solution:\n",
    "    def climbStairs(self, n: int) -> int:\n",
    "        dp = [0] * (n + 1)\n",
    "        dp[0] = dp[1] = 1\n",
    "        for i in range(2, n + 1):\n",
    "            dp[i] = dp[i - 1] + dp[i - 2]\n",
    "        return dp[-1]"
   ]
  },
  {
   "cell_type": "markdown",
   "metadata": {},
   "source": [
    "### 两数之和\n",
    "寻找列表中满足两数之和等于目标值的元素的下标。例如：arr = [2,7,4,9]，target = 6  则返回 [0,2]，若不存在，返回空列表[]。"
   ]
  },
  {
   "cell_type": "code",
   "execution_count": 7,
   "metadata": {},
   "outputs": [
    {
     "name": "stdout",
     "output_type": "stream",
     "text": [
      "(0, 2)\n"
     ]
    }
   ],
   "source": [
    "def sum_of_two(arr,target):\n",
    "    dic = {}\n",
    "    for i,x in enumerate(arr):\n",
    "        j = dic.get(target-x,-1)\n",
    "        if j != -1:\n",
    "            return((j,i))\n",
    "        else:\n",
    "            dic[x] = i\n",
    "    return([])\n",
    " \n",
    "arr = [2,7,4,9]\n",
    "target = 6\n",
    "print(sum_of_two(arr,target))"
   ]
  },
  {
   "cell_type": "markdown",
   "metadata": {},
   "source": [
    "### 最大回撤\n",
    "题目形式：有一个数组，求其中两个数x,y，满足x的索引小于y的索引，使得 x-y 最大。例如 arr = [3,7,2,6,4,1,9,8,5]， 最大回撤是6，对应的x=7,y=1。"
   ]
  },
  {
   "cell_type": "code",
   "execution_count": 8,
   "metadata": {},
   "outputs": [
    {
     "name": "stdout",
     "output_type": "stream",
     "text": [
      "x= 7 ,y= 1\n",
      "6\n"
     ]
    }
   ],
   "source": [
    "def max_drawdown(arr): \n",
    "\tassert len(arr)>2, \"len(arr) should > 2!\" \n",
    "\tx,y = arr[0:2] \n",
    "\txmax = x \n",
    "\tmaxdiff = x-y \n",
    "\t\n",
    "\tfor i in range(2,len(arr)): \n",
    "\t\tif arr[i-1] > xmax: \n",
    "\t\t\txmax = arr[i-1] \n",
    "\t\tif xmax - arr[i] > maxdiff: \n",
    "\t\t\tmaxdiff = xmax - arr[i] \n",
    "\t\t\tx,y = xmax,arr[i] \n",
    "\t\n",
    "\tprint(\"x=\",x,\",y=\",y) \n",
    "\treturn(maxdiff)\n",
    "print(max_drawdown([3,7,2,6,4,1,9,8,5]))"
   ]
  },
  {
   "cell_type": "markdown",
   "metadata": {},
   "source": [
    "### 合并两个有序数组\n",
    "给定两个按升序排列的有序数组，将它们合并成一个新的有序数组。例如：a = [1,2,6,8], b = [2,4,7,10]，输出为 arr = [1,2,2,4,6,7,8,10]，归并排序基本思想！！"
   ]
  },
  {
   "cell_type": "code",
   "execution_count": 9,
   "metadata": {},
   "outputs": [],
   "source": [
    "def merge_sorted_array(a,b):\n",
    "\tc = []\n",
    "\ti,j = 0,0\n",
    "\twhile True:\n",
    "\t\tif i == len(a):\n",
    "\t\t\tc.extend(b[j:])\n",
    "\t\t\treturn c\n",
    "\t\telif j == len(b):\n",
    "\t\t\tc.extend(a[i:])\n",
    "\t\t\treturn c\n",
    "\t\telse:\n",
    "\t\t\tif a[i] < b[j]:\n",
    "\t\t\t\tc.append(a[i])\n",
    "\t\t\t\ti += 1\n",
    "\t\t\telse:\n",
    "\t\t\t\tc.append(b[j])\n",
    "\t\t\t\tj += 1"
   ]
  },
  {
   "cell_type": "markdown",
   "metadata": {},
   "source": [
    "### 最大连续子数组和\n",
    "给定一个数组，求其最大连续子数组的和。例如：arr = [1,5,-10,2,5,-3,2,6,-3,1]. 输出为：12。对应的连续子数组为 [2,5,-3,2,6]。动态规划"
   ]
  },
  {
   "cell_type": "code",
   "execution_count": 10,
   "metadata": {},
   "outputs": [],
   "source": [
    "def max_sub_array(arr):\n",
    "\tn = len(arr)\n",
    "\tmaxi, maxall = arr[0], arr[0]\n",
    "\tfor i in range(1, n):\n",
    "\t\tmaxi = max(arr[i], maxi + arr[i])\n",
    "\t\tmaxll = max(maxall, maxi)\n",
    "\treturn maxall"
   ]
  },
  {
   "cell_type": "markdown",
   "metadata": {},
   "source": [
    "### 最长不重复子串\n",
    "给定一个字符串，找出没有重复字符的最长的子串。例如输入“abcbefgf”，答案是 “cbefg”。"
   ]
  },
  {
   "cell_type": "code",
   "execution_count": 11,
   "metadata": {},
   "outputs": [],
   "source": [
    "def longest_substr(s):\n",
    "\tdic = {}\n",
    "\tstart, maxlen, substr = 0,0,\"\"\n",
    "\n",
    "\tfor i,x in enumerate(s):\n",
    "\t\tif x in dic:\n",
    "\t\t\tstart = max(dic[x]+1, start)\n",
    "\t\t\tdic[x] = i\n",
    "\t\telse:\n",
    "\t\t\tdic[x] = i\n",
    "\n",
    "\t\tif i-start+1 > maxlen:\n",
    "\t\t\tmaxlen = i-start+1\n",
    "\t\t\tsubstr = s[start:i+1]\n",
    "\treturn substr"
   ]
  },
  {
   "cell_type": "markdown",
   "metadata": {},
   "source": [
    "反转链表I，II"
   ]
  },
  {
   "cell_type": "code",
   "execution_count": 14,
   "metadata": {},
   "outputs": [],
   "source": [
    "# class ListNode:\n",
    "\n",
    "# def __init__(self, val=0, next=None):\n",
    "\n",
    "# self.val = val\n",
    "\n",
    "# self.next = next\n",
    "\n",
    "class Solution:\n",
    "    def reverseBetween(self, head, left, right):\n",
    "        def reverse(head):\n",
    "            pre, cur = None, head\n",
    "            while cur:\n",
    "                tmp = cur.next\n",
    "                cur.next = pre\n",
    "                pre = cur\n",
    "                cur = tmp\n",
    "            return pre\n",
    "\n",
    "        m = n = ListNode(0)\n",
    "        n.next = head\n",
    "        for _ in range(left-1):\n",
    "            n = n.next # 走到left位置\n",
    "        l = n\n",
    "        mid = n.next\n",
    "\n",
    "\n",
    "        for _ in range(right - left + 1):\n",
    "            n = n.next\n",
    "        r = n.next\n",
    "        n.next = None\n",
    "        # 进行拼接\n",
    "        l.next = reverse(mid)\n",
    "        mid.next = r\n",
    "\n",
    "        return m.next"
   ]
  },
  {
   "cell_type": "code",
   "execution_count": null,
   "metadata": {},
   "outputs": [],
   "source": []
  }
 ],
 "metadata": {
  "kernelspec": {
   "display_name": "Python 3",
   "language": "python",
   "name": "python3"
  },
  "language_info": {
   "codemirror_mode": {
    "name": "ipython",
    "version": 3
   },
   "file_extension": ".py",
   "mimetype": "text/x-python",
   "name": "python",
   "nbconvert_exporter": "python",
   "pygments_lexer": "ipython3",
   "version": "3.7.0"
  }
 },
 "nbformat": 4,
 "nbformat_minor": 2
}
