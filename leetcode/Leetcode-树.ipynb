{
 "cells": [
  {
   "cell_type": "markdown",
   "metadata": {},
   "source": [
    "### 二叉树-广度搜索BFS "
   ]
  },
  {
   "cell_type": "code",
   "execution_count": 1,
   "metadata": {},
   "outputs": [],
   "source": [
    "graph = {  \n",
    "\"A\": [\"B\", \"C\"],  \n",
    "\"B\": [\"A\", \"C\", \"D\"],  \n",
    "\"C\": [\"A\", \"B\", \"D\", \"E\"],  \n",
    "\"D\": [\"B\", \"C\", \"E\", \"F\"],  \n",
    "\"E\": [\"C\", \"D\"],  \n",
    "\"F\": [\"D\"]  \n",
    "}\n",
    "\n",
    "def BFS(graph, star):  \n",
    "\t\"\"\"  \n",
    "\t:param graph: 邻接表  \n",
    "\t:param star: 开始的节点  \n",
    "\t:return:  \n",
    "\t\"\"\"  \n",
    "\tqueue = [] # 数组模拟队列，每次跳出都是pop(0)  \n",
    "\tqueue.append(star)  \n",
    "\tseen = [] # 已经访问过的节点  \n",
    "\tseen.append(star)  \n",
    "\twhile queue:  \n",
    "\t\tvertex = queue.pop(0)  \n",
    "\t\tfor node in graph[vertex]:  \n",
    "\t\t\tif node not in seen:  \n",
    "\t\t\t\tqueue.append(node)  \n",
    "\t\t\t\tseen.append(node)  \n",
    "\t\tprint(vertex)"
   ]
  },
  {
   "cell_type": "markdown",
   "metadata": {},
   "source": [
    "### 二叉树-深度搜索DFS"
   ]
  },
  {
   "cell_type": "code",
   "execution_count": 3,
   "metadata": {},
   "outputs": [],
   "source": [
    "def DFS(graph, star):  \n",
    "    stack = []  \n",
    "    stack.append(star)  \n",
    "    seen = []  \n",
    "    seen.append(star)  \n",
    "    parent = {star: None}  \n",
    "    while stack:  \n",
    "        vertex = stack.pop()  \n",
    "        for node in graph[vertex]:  \n",
    "            if node not in seen:  \n",
    "                stack.append(node)  \n",
    "            seen.append(node)  \n",
    "            parent[node] = vertex  \n",
    "        print(vertex)  \n",
    "    return parent"
   ]
  },
  {
   "cell_type": "markdown",
   "metadata": {},
   "source": [
    "### Q94. 二叉树的中序遍历"
   ]
  },
  {
   "cell_type": "code",
   "execution_count": null,
   "metadata": {},
   "outputs": [],
   "source": [
    "class TreeNode:\n",
    "\tdef __init__(self, val=0, left=None, right=None):\n",
    "\t\tself.val = val\n",
    "\t\tself.left = left\n",
    "\t\tself.right = right\n",
    "class Solution:\n",
    "    def inorderTraversal(self, root: Optional[TreeNode]) -> List[int]:\n",
    "        stack = []\n",
    "        current = root\n",
    "        result = []\n",
    "        while current or stack:\n",
    "            while current:\n",
    "                stack.append(current)\n",
    "                current = current.left\n",
    "\n",
    "            current = stack.pop()\n",
    "            result.append(current.val)\n",
    "            current = current.right\n",
    "\n",
    "        return result"
   ]
  },
  {
   "cell_type": "markdown",
   "metadata": {},
   "source": [
    "### Q102. 二叉树的层序遍历"
   ]
  },
  {
   "cell_type": "code",
   "execution_count": null,
   "metadata": {},
   "outputs": [],
   "source": [
    "class Solution:\n",
    "    def levelOrder(self, root: Optional[TreeNode]) -> List[List[int]]:\n",
    "        if not root:\n",
    "            return []\n",
    "        ans, level = [], [root]\n",
    "        \n",
    "        while level:\n",
    "            ans.append([node.val for node in level])\n",
    "            tmp = []\n",
    "            for node in level:\n",
    "                tmp.extend([node.left, node.right])\n",
    "            level = [node for node in tmp if node]\n",
    "        return ans"
   ]
  },
  {
   "cell_type": "markdown",
   "metadata": {},
   "source": [
    "### Q108. 将有序数组转换为二叉搜索树\n",
    "\n",
    "给你一个整数数组 `nums` ，其中元素已经按 **升序** 排列，请你将其转换为一棵 **高度平衡** 二叉搜索树。\n",
    "**高度平衡** 二叉树是一棵满足「每个节点的左右两个子树的高度差的绝对值不超过 1 」的二叉树。"
   ]
  },
  {
   "cell_type": "code",
   "execution_count": null,
   "metadata": {},
   "outputs": [],
   "source": [
    "class Solution:\n",
    "    def sortedArrayToBST(self, nums: List[int]) -> Optional[TreeNode]:\n",
    "        n = len(nums)\n",
    "        if n == 0:\n",
    "            return None\n",
    "        mid = n//2\n",
    "        root = TreeNode(nums[mid])\n",
    "        root.left = self.sortedArrayToBST(nums[:mid])\n",
    "        root.right = self.sortedArrayToBST(nums[mid+1:])\n",
    "        return root"
   ]
  }
 ],
 "metadata": {
  "kernelspec": {
   "display_name": "Python 3",
   "language": "python",
   "name": "python3"
  },
  "language_info": {
   "codemirror_mode": {
    "name": "ipython",
    "version": 3
   },
   "file_extension": ".py",
   "mimetype": "text/x-python",
   "name": "python",
   "nbconvert_exporter": "python",
   "pygments_lexer": "ipython3",
   "version": "3.7.0"
  }
 },
 "nbformat": 4,
 "nbformat_minor": 2
}
