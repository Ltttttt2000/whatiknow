{
 "cells": [
  {
   "cell_type": "markdown",
   "metadata": {},
   "source": [
    "# 滑动窗口\n",
    "Q3. 无重复字符的最长子串\n",
    "给定一个字符串 `s` ，请你找出其中不含有重复字符的 **最长子串** 的长度。"
   ]
  },
  {
   "cell_type": "code",
   "execution_count": null,
   "metadata": {},
   "outputs": [],
   "source": [
    "class Solution:\n",
    "    def lengthOfLongestSubstring(self, s: str) -> int:\n",
    "        res = 1\n",
    "        l = 0\n",
    "        if s == \"\":\n",
    "            return 0\n",
    "        subs = ''\n",
    "        for r in range(len(s)):\n",
    "            # print(r, l)\n",
    "            # print(s[r], s[l])\n",
    "\n",
    "            if s[r] not in subs:\n",
    "                subs += s[r]\n",
    "                res = max(res, len(subs))\n",
    "            else:\n",
    "                index = subs.find(s[r]) # 找到重复的位置，从下一个位置开始计算\n",
    "                l = index + 1\n",
    "                subs += s[r]\n",
    "                subs = subs[index+1:] # 清除之前的subs\n",
    "                res = max(res, len(subs))\n",
    "\n",
    "        return res"
   ]
  },
  {
   "cell_type": "markdown",
   "metadata": {},
   "source": [
    "Q438. 找到字符串中所有字母异位词\n",
    "给定两个字符串 `s` 和 `p`，找到 `s` 中所有 `p` 的 **异位词** 的子串，返回这些子串的起始索引。不考虑答案输出的顺序。**异位词** 指由相同字母重排列形成的字符串（包括相同的字符串）。"
   ]
  },
  {
   "cell_type": "code",
   "execution_count": null,
   "metadata": {},
   "outputs": [],
   "source": []
  }
 ],
 "metadata": {
  "kernelspec": {
   "display_name": "Python 3",
   "language": "python",
   "name": "python3"
  },
  "language_info": {
   "codemirror_mode": {
    "name": "ipython",
    "version": 3
   },
   "file_extension": ".py",
   "mimetype": "text/x-python",
   "name": "python",
   "nbconvert_exporter": "python",
   "pygments_lexer": "ipython3",
   "version": "3.7.0"
  }
 },
 "nbformat": 4,
 "nbformat_minor": 2
}
